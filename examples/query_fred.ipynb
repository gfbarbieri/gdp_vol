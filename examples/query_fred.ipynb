{
 "cells": [
  {
   "cell_type": "markdown",
   "metadata": {},
   "source": [
    "# Query FRED API"
   ]
  },
  {
   "cell_type": "markdown",
   "metadata": {},
   "source": [
    "Imports"
   ]
  },
  {
   "cell_type": "code",
   "execution_count": 1,
   "metadata": {},
   "outputs": [],
   "source": [
    "########################################################################\n",
    "# Required for Jupyter Notebooks to find the src directory.\n",
    "import sys\n",
    "sys.path.append('../')\n",
    "########################################################################\n",
    "\n",
    "import os\n",
    "\n",
    "from dotenv import load_dotenv\n",
    "\n",
    "from src.data_loading.loaders import DataRetriever"
   ]
  },
  {
   "cell_type": "markdown",
   "metadata": {},
   "source": [
    "## Get the data from FRED\n",
    "\n",
    "We are going to use the FRED API to get the real GDP data and government production."
   ]
  },
  {
   "cell_type": "markdown",
   "metadata": {},
   "source": [
    "Set base URL for FRED API."
   ]
  },
  {
   "cell_type": "code",
   "execution_count": 2,
   "metadata": {},
   "outputs": [],
   "source": [
    "# base_url = \"https://api.stlouisfed.org/fred/series\"\n",
    "base_url = \"https://api.stlouisfed.org/fred/series/observations\"\n",
    "headers = {\"Content-Type\": \"application/json\"}\n",
    "\n",
    "params = {\n",
    "    'file_type': 'json',\n",
    "    'frequency': 'q'\n",
    "}\n",
    "\n",
    "api_key = os.getenv('API_KEY')"
   ]
  },
  {
   "cell_type": "markdown",
   "metadata": {},
   "source": [
    "Get data from FRED."
   ]
  },
  {
   "cell_type": "code",
   "execution_count": 3,
   "metadata": {},
   "outputs": [],
   "source": [
    "# Create a dictionary to store the series IDs.\n",
    "series_id = {'real_gdp': \"GDPC1\", 'gov_prod': \"GCEC1\"}\n",
    "\n",
    "# Create a dictionary to store the data.\n",
    "data_dict = {}\n",
    "\n",
    "for series, id in series_id.items():\n",
    "\n",
    "    # Update the parameters with the series ID. \n",
    "    params.update({\"series_id\": id})\n",
    "\n",
    "    # Create a DataRetriever object.\n",
    "    data_loader = DataRetriever.create(\n",
    "        path_or_url=base_url, params=params, headers=headers\n",
    "    )\n",
    "\n",
    "    # Load the data and add it to the data dictionary.\n",
    "    data_dict[series] = data_loader.load_data(\n",
    "        data_key=\"observations\", api_key=api_key\n",
    "    )"
   ]
  },
  {
   "cell_type": "markdown",
   "metadata": {},
   "source": [
    "Write the data as an Excel file to the data directory."
   ]
  },
  {
   "cell_type": "code",
   "execution_count": 4,
   "metadata": {},
   "outputs": [],
   "source": [
    "for series, data in data_dict.items():\n",
    "\n",
    "    # Create the data directory if it doesn't exist.\n",
    "    data_directory = '../data'\n",
    "\n",
    "    if not os.path.exists(data_directory):\n",
    "        os.makedirs(data_directory)\n",
    "\n",
    "    # Write the data to an Excel file.\n",
    "    data_dict[series].to_excel(\n",
    "        os.path.join(data_directory, f'{series}.xlsx'), index=False\n",
    "    )"
   ]
  }
 ],
 "metadata": {
  "kernelspec": {
   "display_name": "gdp-volatility-PwK91hEE-py3.12",
   "language": "python",
   "name": "python3"
  },
  "language_info": {
   "codemirror_mode": {
    "name": "ipython",
    "version": 3
   },
   "file_extension": ".py",
   "mimetype": "text/x-python",
   "name": "python",
   "nbconvert_exporter": "python",
   "pygments_lexer": "ipython3",
   "version": "3.12.1"
  }
 },
 "nbformat": 4,
 "nbformat_minor": 2
}
